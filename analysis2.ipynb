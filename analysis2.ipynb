{
 "cells": [
  {
   "cell_type": "markdown",
   "id": "6a0f2768",
   "metadata": {},
   "source": [
    "## Nassau County Housing Cost Predictions - Regression Models\n",
    "This part aims to analyze Nassau County housing costs using Zillow data (scraped by Apify). The dataset has been initially cleaned, as null values have been handled. All initial null values (except tax assessed values for each home) have been handled accordingly in initial_cleaning.py. All data was provided by Apify's Zillow scraper."
   ]
  },
  {
   "cell_type": "markdown",
   "id": "328de124",
   "metadata": {},
   "source": [
    "### 1. Setup\n",
    "In analysis1.ipynb, we already conducted EDA and additional preprocessing (ordinal encoding, OLS for null tax assessed values)"
   ]
  },
  {
   "cell_type": "code",
   "execution_count": 7,
   "id": "d02aee53",
   "metadata": {},
   "outputs": [],
   "source": [
    "import sqlite3\n",
    "import pandas as pd\n",
    "import matplotlib.pyplot as plt"
   ]
  },
  {
   "cell_type": "code",
   "execution_count": 8,
   "id": "cf768948",
   "metadata": {},
   "outputs": [
    {
     "data": {
      "text/html": [
       "<div>\n",
       "<style scoped>\n",
       "    .dataframe tbody tr th:only-of-type {\n",
       "        vertical-align: middle;\n",
       "    }\n",
       "\n",
       "    .dataframe tbody tr th {\n",
       "        vertical-align: top;\n",
       "    }\n",
       "\n",
       "    .dataframe thead th {\n",
       "        text-align: right;\n",
       "    }\n",
       "</style>\n",
       "<table border=\"1\" class=\"dataframe\">\n",
       "  <thead>\n",
       "    <tr style=\"text-align: right;\">\n",
       "      <th></th>\n",
       "      <th>index</th>\n",
       "      <th>address</th>\n",
       "      <th>addressCity</th>\n",
       "      <th>addressZipcode</th>\n",
       "      <th>bedrooms</th>\n",
       "      <th>bathrooms</th>\n",
       "      <th>area</th>\n",
       "      <th>daysOnZillow</th>\n",
       "      <th>price</th>\n",
       "      <th>lotAreaValue</th>\n",
       "      <th>lotAreaUnit</th>\n",
       "      <th>taxAssessedValue</th>\n",
       "      <th>latitude</th>\n",
       "      <th>longitude</th>\n",
       "    </tr>\n",
       "  </thead>\n",
       "  <tbody>\n",
       "    <tr>\n",
       "      <th>0</th>\n",
       "      <td>0</td>\n",
       "      <td>4 Aron Drive, Woodbury, NY 11797</td>\n",
       "      <td>77.0</td>\n",
       "      <td>11797</td>\n",
       "      <td>5</td>\n",
       "      <td>5.0</td>\n",
       "      <td>4000.0</td>\n",
       "      <td>12</td>\n",
       "      <td>2699999</td>\n",
       "      <td>0.460009</td>\n",
       "      <td>0.0</td>\n",
       "      <td>912000.0</td>\n",
       "      <td>40.825302</td>\n",
       "      <td>-73.476944</td>\n",
       "    </tr>\n",
       "    <tr>\n",
       "      <th>1</th>\n",
       "      <td>1</td>\n",
       "      <td>2607 Falcon Street, East Meadow, NY 11554</td>\n",
       "      <td>14.0</td>\n",
       "      <td>11554</td>\n",
       "      <td>4</td>\n",
       "      <td>2.0</td>\n",
       "      <td>1260.0</td>\n",
       "      <td>6</td>\n",
       "      <td>750000</td>\n",
       "      <td>7200.000000</td>\n",
       "      <td>1.0</td>\n",
       "      <td>519000.0</td>\n",
       "      <td>40.711006</td>\n",
       "      <td>-73.538830</td>\n",
       "    </tr>\n",
       "    <tr>\n",
       "      <th>2</th>\n",
       "      <td>2</td>\n",
       "      <td>17 Pinetree Drive, Farmingdale, NY 11735</td>\n",
       "      <td>19.0</td>\n",
       "      <td>11735</td>\n",
       "      <td>3</td>\n",
       "      <td>3.0</td>\n",
       "      <td>1540.0</td>\n",
       "      <td>4</td>\n",
       "      <td>629000</td>\n",
       "      <td>7140.000000</td>\n",
       "      <td>1.0</td>\n",
       "      <td>441000.0</td>\n",
       "      <td>40.719440</td>\n",
       "      <td>-73.466995</td>\n",
       "    </tr>\n",
       "    <tr>\n",
       "      <th>3</th>\n",
       "      <td>3</td>\n",
       "      <td>35 Bayview Avenue, Port Washington, NY 11050</td>\n",
       "      <td>59.0</td>\n",
       "      <td>11050</td>\n",
       "      <td>4</td>\n",
       "      <td>2.0</td>\n",
       "      <td>2164.0</td>\n",
       "      <td>5</td>\n",
       "      <td>1225000</td>\n",
       "      <td>5650.000000</td>\n",
       "      <td>1.0</td>\n",
       "      <td>705000.0</td>\n",
       "      <td>40.826836</td>\n",
       "      <td>-73.697530</td>\n",
       "    </tr>\n",
       "    <tr>\n",
       "      <th>4</th>\n",
       "      <td>4</td>\n",
       "      <td>138 Mount Joy Avenue, Freeport, NY 11520</td>\n",
       "      <td>22.0</td>\n",
       "      <td>11520</td>\n",
       "      <td>3</td>\n",
       "      <td>4.0</td>\n",
       "      <td>1638.0</td>\n",
       "      <td>13</td>\n",
       "      <td>588786</td>\n",
       "      <td>6250.000000</td>\n",
       "      <td>1.0</td>\n",
       "      <td>406000.0</td>\n",
       "      <td>40.670380</td>\n",
       "      <td>-73.593330</td>\n",
       "    </tr>\n",
       "  </tbody>\n",
       "</table>\n",
       "</div>"
      ],
      "text/plain": [
       "   index                                       address  addressCity  \\\n",
       "0      0              4 Aron Drive, Woodbury, NY 11797         77.0   \n",
       "1      1     2607 Falcon Street, East Meadow, NY 11554         14.0   \n",
       "2      2      17 Pinetree Drive, Farmingdale, NY 11735         19.0   \n",
       "3      3  35 Bayview Avenue, Port Washington, NY 11050         59.0   \n",
       "4      4      138 Mount Joy Avenue, Freeport, NY 11520         22.0   \n",
       "\n",
       "  addressZipcode  bedrooms  bathrooms    area  daysOnZillow    price  \\\n",
       "0          11797         5        5.0  4000.0            12  2699999   \n",
       "1          11554         4        2.0  1260.0             6   750000   \n",
       "2          11735         3        3.0  1540.0             4   629000   \n",
       "3          11050         4        2.0  2164.0             5  1225000   \n",
       "4          11520         3        4.0  1638.0            13   588786   \n",
       "\n",
       "   lotAreaValue  lotAreaUnit  taxAssessedValue   latitude  longitude  \n",
       "0      0.460009          0.0          912000.0  40.825302 -73.476944  \n",
       "1   7200.000000          1.0          519000.0  40.711006 -73.538830  \n",
       "2   7140.000000          1.0          441000.0  40.719440 -73.466995  \n",
       "3   5650.000000          1.0          705000.0  40.826836 -73.697530  \n",
       "4   6250.000000          1.0          406000.0  40.670380 -73.593330  "
      ]
     },
     "execution_count": 8,
     "metadata": {},
     "output_type": "execute_result"
    }
   ],
   "source": [
    "connection = sqlite3.connect('zillow_data.db')\n",
    "df = pd.read_sql_query(\"SELECT * FROM 'preprocessed listings'\", connection)\n",
    "df.head()"
   ]
  },
  {
   "cell_type": "markdown",
   "id": "691dab0c",
   "metadata": {},
   "source": [
    "### 2. Model Development (With `taxAssessedValue`)"
   ]
  },
  {
   "cell_type": "markdown",
   "id": "eb97cfb7",
   "metadata": {},
   "source": [
    "Remove the 'index' column entirely. All columns except the address will be used as our features (taxAssessedValue included for now), and our label is the listing price."
   ]
  },
  {
   "cell_type": "code",
   "execution_count": 9,
   "id": "48715871",
   "metadata": {},
   "outputs": [],
   "source": [
    "df = df.drop(['index'], axis=1)\n",
    "features = df.drop(['price', 'address'], axis=1)\n",
    "label = df['price']"
   ]
  }
 ],
 "metadata": {
  "kernelspec": {
   "display_name": "Python 3",
   "language": "python",
   "name": "python3"
  },
  "language_info": {
   "codemirror_mode": {
    "name": "ipython",
    "version": 3
   },
   "file_extension": ".py",
   "mimetype": "text/x-python",
   "name": "python",
   "nbconvert_exporter": "python",
   "pygments_lexer": "ipython3",
   "version": "3.11.9"
  }
 },
 "nbformat": 4,
 "nbformat_minor": 5
}
